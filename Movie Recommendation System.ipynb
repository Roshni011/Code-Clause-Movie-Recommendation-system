{
 "cells": [
  {
   "cell_type": "code",
   "execution_count": 1,
   "id": "c9831954",
   "metadata": {},
   "outputs": [],
   "source": [
    "import pandas as pd \n",
    "import tkinter as tk\n",
    "import warnings\n",
    "warnings.filterwarnings('ignore')                     \n",
    "import numpy as np"
   ]
  },
  {
   "cell_type": "code",
   "execution_count": 2,
   "id": "23d857f5",
   "metadata": {},
   "outputs": [],
   "source": [
    "anime=pd.read_csv('C:/Users/roshn/Downloads/Codeclause_2/anime.csv')\n",
    "ratings=pd.read_csv('C:/Users/roshn/Downloads/Codeclause_2/rating.csv')"
   ]
  },
  {
   "cell_type": "code",
   "execution_count": 3,
   "id": "871832c0",
   "metadata": {},
   "outputs": [
    {
     "data": {
      "text/html": [
       "<div>\n",
       "<style scoped>\n",
       "    .dataframe tbody tr th:only-of-type {\n",
       "        vertical-align: middle;\n",
       "    }\n",
       "\n",
       "    .dataframe tbody tr th {\n",
       "        vertical-align: top;\n",
       "    }\n",
       "\n",
       "    .dataframe thead th {\n",
       "        text-align: right;\n",
       "    }\n",
       "</style>\n",
       "<table border=\"1\" class=\"dataframe\">\n",
       "  <thead>\n",
       "    <tr style=\"text-align: right;\">\n",
       "      <th></th>\n",
       "      <th>anime_id</th>\n",
       "      <th>name</th>\n",
       "      <th>genre</th>\n",
       "      <th>type</th>\n",
       "      <th>episodes</th>\n",
       "      <th>rating</th>\n",
       "      <th>members</th>\n",
       "    </tr>\n",
       "  </thead>\n",
       "  <tbody>\n",
       "    <tr>\n",
       "      <th>0</th>\n",
       "      <td>32281</td>\n",
       "      <td>Kimi no Na wa.</td>\n",
       "      <td>Drama, Romance, School, Supernatural</td>\n",
       "      <td>Movie</td>\n",
       "      <td>1</td>\n",
       "      <td>9.37</td>\n",
       "      <td>200630</td>\n",
       "    </tr>\n",
       "    <tr>\n",
       "      <th>1</th>\n",
       "      <td>5114</td>\n",
       "      <td>Fullmetal Alchemist: Brotherhood</td>\n",
       "      <td>Action, Adventure, Drama, Fantasy, Magic, Mili...</td>\n",
       "      <td>TV</td>\n",
       "      <td>64</td>\n",
       "      <td>9.26</td>\n",
       "      <td>793665</td>\n",
       "    </tr>\n",
       "    <tr>\n",
       "      <th>2</th>\n",
       "      <td>28977</td>\n",
       "      <td>Gintama°</td>\n",
       "      <td>Action, Comedy, Historical, Parody, Samurai, S...</td>\n",
       "      <td>TV</td>\n",
       "      <td>51</td>\n",
       "      <td>9.25</td>\n",
       "      <td>114262</td>\n",
       "    </tr>\n",
       "    <tr>\n",
       "      <th>3</th>\n",
       "      <td>9253</td>\n",
       "      <td>Steins;Gate</td>\n",
       "      <td>Sci-Fi, Thriller</td>\n",
       "      <td>TV</td>\n",
       "      <td>24</td>\n",
       "      <td>9.17</td>\n",
       "      <td>673572</td>\n",
       "    </tr>\n",
       "    <tr>\n",
       "      <th>4</th>\n",
       "      <td>9969</td>\n",
       "      <td>Gintama&amp;#039;</td>\n",
       "      <td>Action, Comedy, Historical, Parody, Samurai, S...</td>\n",
       "      <td>TV</td>\n",
       "      <td>51</td>\n",
       "      <td>9.16</td>\n",
       "      <td>151266</td>\n",
       "    </tr>\n",
       "  </tbody>\n",
       "</table>\n",
       "</div>"
      ],
      "text/plain": [
       "   anime_id                              name  \\\n",
       "0     32281                    Kimi no Na wa.   \n",
       "1      5114  Fullmetal Alchemist: Brotherhood   \n",
       "2     28977                          Gintama°   \n",
       "3      9253                       Steins;Gate   \n",
       "4      9969                     Gintama&#039;   \n",
       "\n",
       "                                               genre   type episodes  rating  \\\n",
       "0               Drama, Romance, School, Supernatural  Movie        1    9.37   \n",
       "1  Action, Adventure, Drama, Fantasy, Magic, Mili...     TV       64    9.26   \n",
       "2  Action, Comedy, Historical, Parody, Samurai, S...     TV       51    9.25   \n",
       "3                                   Sci-Fi, Thriller     TV       24    9.17   \n",
       "4  Action, Comedy, Historical, Parody, Samurai, S...     TV       51    9.16   \n",
       "\n",
       "   members  \n",
       "0   200630  \n",
       "1   793665  \n",
       "2   114262  \n",
       "3   673572  \n",
       "4   151266  "
      ]
     },
     "execution_count": 3,
     "metadata": {},
     "output_type": "execute_result"
    }
   ],
   "source": [
    "anime.head()"
   ]
  },
  {
   "cell_type": "code",
   "execution_count": 4,
   "id": "89d075cf",
   "metadata": {},
   "outputs": [
    {
     "data": {
      "text/html": [
       "<div>\n",
       "<style scoped>\n",
       "    .dataframe tbody tr th:only-of-type {\n",
       "        vertical-align: middle;\n",
       "    }\n",
       "\n",
       "    .dataframe tbody tr th {\n",
       "        vertical-align: top;\n",
       "    }\n",
       "\n",
       "    .dataframe thead th {\n",
       "        text-align: right;\n",
       "    }\n",
       "</style>\n",
       "<table border=\"1\" class=\"dataframe\">\n",
       "  <thead>\n",
       "    <tr style=\"text-align: right;\">\n",
       "      <th></th>\n",
       "      <th>anime_id</th>\n",
       "      <th>rating</th>\n",
       "      <th>members</th>\n",
       "    </tr>\n",
       "  </thead>\n",
       "  <tbody>\n",
       "    <tr>\n",
       "      <th>count</th>\n",
       "      <td>12294.000000</td>\n",
       "      <td>12064.000000</td>\n",
       "      <td>1.229400e+04</td>\n",
       "    </tr>\n",
       "    <tr>\n",
       "      <th>mean</th>\n",
       "      <td>14058.221653</td>\n",
       "      <td>6.473902</td>\n",
       "      <td>1.807134e+04</td>\n",
       "    </tr>\n",
       "    <tr>\n",
       "      <th>std</th>\n",
       "      <td>11455.294701</td>\n",
       "      <td>1.026746</td>\n",
       "      <td>5.482068e+04</td>\n",
       "    </tr>\n",
       "    <tr>\n",
       "      <th>min</th>\n",
       "      <td>1.000000</td>\n",
       "      <td>1.670000</td>\n",
       "      <td>5.000000e+00</td>\n",
       "    </tr>\n",
       "    <tr>\n",
       "      <th>25%</th>\n",
       "      <td>3484.250000</td>\n",
       "      <td>5.880000</td>\n",
       "      <td>2.250000e+02</td>\n",
       "    </tr>\n",
       "    <tr>\n",
       "      <th>50%</th>\n",
       "      <td>10260.500000</td>\n",
       "      <td>6.570000</td>\n",
       "      <td>1.550000e+03</td>\n",
       "    </tr>\n",
       "    <tr>\n",
       "      <th>75%</th>\n",
       "      <td>24794.500000</td>\n",
       "      <td>7.180000</td>\n",
       "      <td>9.437000e+03</td>\n",
       "    </tr>\n",
       "    <tr>\n",
       "      <th>max</th>\n",
       "      <td>34527.000000</td>\n",
       "      <td>10.000000</td>\n",
       "      <td>1.013917e+06</td>\n",
       "    </tr>\n",
       "  </tbody>\n",
       "</table>\n",
       "</div>"
      ],
      "text/plain": [
       "           anime_id        rating       members\n",
       "count  12294.000000  12064.000000  1.229400e+04\n",
       "mean   14058.221653      6.473902  1.807134e+04\n",
       "std    11455.294701      1.026746  5.482068e+04\n",
       "min        1.000000      1.670000  5.000000e+00\n",
       "25%     3484.250000      5.880000  2.250000e+02\n",
       "50%    10260.500000      6.570000  1.550000e+03\n",
       "75%    24794.500000      7.180000  9.437000e+03\n",
       "max    34527.000000     10.000000  1.013917e+06"
      ]
     },
     "execution_count": 4,
     "metadata": {},
     "output_type": "execute_result"
    }
   ],
   "source": [
    "anime.describe()"
   ]
  },
  {
   "cell_type": "code",
   "execution_count": 5,
   "id": "a6523b6e",
   "metadata": {},
   "outputs": [
    {
     "data": {
      "text/html": [
       "<div>\n",
       "<style scoped>\n",
       "    .dataframe tbody tr th:only-of-type {\n",
       "        vertical-align: middle;\n",
       "    }\n",
       "\n",
       "    .dataframe tbody tr th {\n",
       "        vertical-align: top;\n",
       "    }\n",
       "\n",
       "    .dataframe thead th {\n",
       "        text-align: right;\n",
       "    }\n",
       "</style>\n",
       "<table border=\"1\" class=\"dataframe\">\n",
       "  <thead>\n",
       "    <tr style=\"text-align: right;\">\n",
       "      <th></th>\n",
       "      <th>user_id</th>\n",
       "      <th>anime_id</th>\n",
       "      <th>rating</th>\n",
       "    </tr>\n",
       "  </thead>\n",
       "  <tbody>\n",
       "    <tr>\n",
       "      <th>0</th>\n",
       "      <td>1</td>\n",
       "      <td>20</td>\n",
       "      <td>-1</td>\n",
       "    </tr>\n",
       "    <tr>\n",
       "      <th>1</th>\n",
       "      <td>1</td>\n",
       "      <td>24</td>\n",
       "      <td>-1</td>\n",
       "    </tr>\n",
       "    <tr>\n",
       "      <th>2</th>\n",
       "      <td>1</td>\n",
       "      <td>79</td>\n",
       "      <td>-1</td>\n",
       "    </tr>\n",
       "    <tr>\n",
       "      <th>3</th>\n",
       "      <td>1</td>\n",
       "      <td>226</td>\n",
       "      <td>-1</td>\n",
       "    </tr>\n",
       "    <tr>\n",
       "      <th>4</th>\n",
       "      <td>1</td>\n",
       "      <td>241</td>\n",
       "      <td>-1</td>\n",
       "    </tr>\n",
       "  </tbody>\n",
       "</table>\n",
       "</div>"
      ],
      "text/plain": [
       "   user_id  anime_id  rating\n",
       "0        1        20      -1\n",
       "1        1        24      -1\n",
       "2        1        79      -1\n",
       "3        1       226      -1\n",
       "4        1       241      -1"
      ]
     },
     "execution_count": 5,
     "metadata": {},
     "output_type": "execute_result"
    }
   ],
   "source": [
    "ratings.head()"
   ]
  },
  {
   "cell_type": "code",
   "execution_count": 6,
   "id": "b4f08a0b",
   "metadata": {},
   "outputs": [
    {
     "data": {
      "text/html": [
       "<div>\n",
       "<style scoped>\n",
       "    .dataframe tbody tr th:only-of-type {\n",
       "        vertical-align: middle;\n",
       "    }\n",
       "\n",
       "    .dataframe tbody tr th {\n",
       "        vertical-align: top;\n",
       "    }\n",
       "\n",
       "    .dataframe thead th {\n",
       "        text-align: right;\n",
       "    }\n",
       "</style>\n",
       "<table border=\"1\" class=\"dataframe\">\n",
       "  <thead>\n",
       "    <tr style=\"text-align: right;\">\n",
       "      <th></th>\n",
       "      <th>user_id</th>\n",
       "      <th>anime_id</th>\n",
       "      <th>rating</th>\n",
       "    </tr>\n",
       "  </thead>\n",
       "  <tbody>\n",
       "    <tr>\n",
       "      <th>count</th>\n",
       "      <td>7.813737e+06</td>\n",
       "      <td>7.813737e+06</td>\n",
       "      <td>7.813737e+06</td>\n",
       "    </tr>\n",
       "    <tr>\n",
       "      <th>mean</th>\n",
       "      <td>3.672796e+04</td>\n",
       "      <td>8.909072e+03</td>\n",
       "      <td>6.144030e+00</td>\n",
       "    </tr>\n",
       "    <tr>\n",
       "      <th>std</th>\n",
       "      <td>2.099795e+04</td>\n",
       "      <td>8.883950e+03</td>\n",
       "      <td>3.727800e+00</td>\n",
       "    </tr>\n",
       "    <tr>\n",
       "      <th>min</th>\n",
       "      <td>1.000000e+00</td>\n",
       "      <td>1.000000e+00</td>\n",
       "      <td>-1.000000e+00</td>\n",
       "    </tr>\n",
       "    <tr>\n",
       "      <th>25%</th>\n",
       "      <td>1.897400e+04</td>\n",
       "      <td>1.240000e+03</td>\n",
       "      <td>6.000000e+00</td>\n",
       "    </tr>\n",
       "    <tr>\n",
       "      <th>50%</th>\n",
       "      <td>3.679100e+04</td>\n",
       "      <td>6.213000e+03</td>\n",
       "      <td>7.000000e+00</td>\n",
       "    </tr>\n",
       "    <tr>\n",
       "      <th>75%</th>\n",
       "      <td>5.475700e+04</td>\n",
       "      <td>1.409300e+04</td>\n",
       "      <td>9.000000e+00</td>\n",
       "    </tr>\n",
       "    <tr>\n",
       "      <th>max</th>\n",
       "      <td>7.351600e+04</td>\n",
       "      <td>3.451900e+04</td>\n",
       "      <td>1.000000e+01</td>\n",
       "    </tr>\n",
       "  </tbody>\n",
       "</table>\n",
       "</div>"
      ],
      "text/plain": [
       "            user_id      anime_id        rating\n",
       "count  7.813737e+06  7.813737e+06  7.813737e+06\n",
       "mean   3.672796e+04  8.909072e+03  6.144030e+00\n",
       "std    2.099795e+04  8.883950e+03  3.727800e+00\n",
       "min    1.000000e+00  1.000000e+00 -1.000000e+00\n",
       "25%    1.897400e+04  1.240000e+03  6.000000e+00\n",
       "50%    3.679100e+04  6.213000e+03  7.000000e+00\n",
       "75%    5.475700e+04  1.409300e+04  9.000000e+00\n",
       "max    7.351600e+04  3.451900e+04  1.000000e+01"
      ]
     },
     "execution_count": 6,
     "metadata": {},
     "output_type": "execute_result"
    }
   ],
   "source": [
    "ratings.describe()"
   ]
  },
  {
   "cell_type": "code",
   "execution_count": 7,
   "id": "317d0f64",
   "metadata": {},
   "outputs": [
    {
     "data": {
      "text/plain": [
       "(12294, 7)"
      ]
     },
     "execution_count": 7,
     "metadata": {},
     "output_type": "execute_result"
    }
   ],
   "source": [
    "anime.shape"
   ]
  },
  {
   "cell_type": "code",
   "execution_count": 8,
   "id": "3488160a",
   "metadata": {},
   "outputs": [],
   "source": [
    "movies = anime.merge(ratings,on='anime_id')"
   ]
  },
  {
   "cell_type": "code",
   "execution_count": 9,
   "id": "a078257b",
   "metadata": {},
   "outputs": [
    {
     "data": {
      "text/html": [
       "<div>\n",
       "<style scoped>\n",
       "    .dataframe tbody tr th:only-of-type {\n",
       "        vertical-align: middle;\n",
       "    }\n",
       "\n",
       "    .dataframe tbody tr th {\n",
       "        vertical-align: top;\n",
       "    }\n",
       "\n",
       "    .dataframe thead th {\n",
       "        text-align: right;\n",
       "    }\n",
       "</style>\n",
       "<table border=\"1\" class=\"dataframe\">\n",
       "  <thead>\n",
       "    <tr style=\"text-align: right;\">\n",
       "      <th></th>\n",
       "      <th>anime_id</th>\n",
       "      <th>name</th>\n",
       "      <th>genre</th>\n",
       "      <th>type</th>\n",
       "      <th>episodes</th>\n",
       "      <th>rating_x</th>\n",
       "      <th>members</th>\n",
       "      <th>user_id</th>\n",
       "      <th>rating_y</th>\n",
       "    </tr>\n",
       "  </thead>\n",
       "  <tbody>\n",
       "    <tr>\n",
       "      <th>0</th>\n",
       "      <td>32281</td>\n",
       "      <td>Kimi no Na wa.</td>\n",
       "      <td>Drama, Romance, School, Supernatural</td>\n",
       "      <td>Movie</td>\n",
       "      <td>1</td>\n",
       "      <td>9.37</td>\n",
       "      <td>200630</td>\n",
       "      <td>99</td>\n",
       "      <td>5</td>\n",
       "    </tr>\n",
       "  </tbody>\n",
       "</table>\n",
       "</div>"
      ],
      "text/plain": [
       "   anime_id            name                                 genre   type  \\\n",
       "0     32281  Kimi no Na wa.  Drama, Romance, School, Supernatural  Movie   \n",
       "\n",
       "  episodes  rating_x  members  user_id  rating_y  \n",
       "0        1      9.37   200630       99         5  "
      ]
     },
     "execution_count": 9,
     "metadata": {},
     "output_type": "execute_result"
    }
   ],
   "source": [
    "movies.head(1)"
   ]
  },
  {
   "cell_type": "code",
   "execution_count": 10,
   "id": "ac8bcf18",
   "metadata": {},
   "outputs": [
    {
     "data": {
      "text/plain": [
       "(7813727, 9)"
      ]
     },
     "execution_count": 10,
     "metadata": {},
     "output_type": "execute_result"
    }
   ],
   "source": [
    "movies.shape"
   ]
  },
  {
   "cell_type": "code",
   "execution_count": 11,
   "id": "a57730b0",
   "metadata": {},
   "outputs": [
    {
     "data": {
      "text/plain": [
       "pandas.core.frame.DataFrame"
      ]
     },
     "execution_count": 11,
     "metadata": {},
     "output_type": "execute_result"
    }
   ],
   "source": [
    "new = movies.drop(columns=['rating_x','user_id', 'rating_y'])\n",
    "type(new)"
   ]
  },
  {
   "cell_type": "code",
   "execution_count": 12,
   "id": "a7f6fad7",
   "metadata": {},
   "outputs": [
    {
     "data": {
      "text/html": [
       "<div>\n",
       "<style scoped>\n",
       "    .dataframe tbody tr th:only-of-type {\n",
       "        vertical-align: middle;\n",
       "    }\n",
       "\n",
       "    .dataframe tbody tr th {\n",
       "        vertical-align: top;\n",
       "    }\n",
       "\n",
       "    .dataframe thead th {\n",
       "        text-align: right;\n",
       "    }\n",
       "</style>\n",
       "<table border=\"1\" class=\"dataframe\">\n",
       "  <thead>\n",
       "    <tr style=\"text-align: right;\">\n",
       "      <th></th>\n",
       "      <th>anime_id</th>\n",
       "      <th>name</th>\n",
       "      <th>genre</th>\n",
       "      <th>type</th>\n",
       "      <th>episodes</th>\n",
       "      <th>members</th>\n",
       "    </tr>\n",
       "  </thead>\n",
       "  <tbody>\n",
       "    <tr>\n",
       "      <th>0</th>\n",
       "      <td>32281</td>\n",
       "      <td>Kimi no Na wa.</td>\n",
       "      <td>Drama, Romance, School, Supernatural</td>\n",
       "      <td>Movie</td>\n",
       "      <td>1</td>\n",
       "      <td>200630</td>\n",
       "    </tr>\n",
       "    <tr>\n",
       "      <th>1</th>\n",
       "      <td>32281</td>\n",
       "      <td>Kimi no Na wa.</td>\n",
       "      <td>Drama, Romance, School, Supernatural</td>\n",
       "      <td>Movie</td>\n",
       "      <td>1</td>\n",
       "      <td>200630</td>\n",
       "    </tr>\n",
       "    <tr>\n",
       "      <th>2</th>\n",
       "      <td>32281</td>\n",
       "      <td>Kimi no Na wa.</td>\n",
       "      <td>Drama, Romance, School, Supernatural</td>\n",
       "      <td>Movie</td>\n",
       "      <td>1</td>\n",
       "      <td>200630</td>\n",
       "    </tr>\n",
       "    <tr>\n",
       "      <th>3</th>\n",
       "      <td>32281</td>\n",
       "      <td>Kimi no Na wa.</td>\n",
       "      <td>Drama, Romance, School, Supernatural</td>\n",
       "      <td>Movie</td>\n",
       "      <td>1</td>\n",
       "      <td>200630</td>\n",
       "    </tr>\n",
       "    <tr>\n",
       "      <th>4</th>\n",
       "      <td>32281</td>\n",
       "      <td>Kimi no Na wa.</td>\n",
       "      <td>Drama, Romance, School, Supernatural</td>\n",
       "      <td>Movie</td>\n",
       "      <td>1</td>\n",
       "      <td>200630</td>\n",
       "    </tr>\n",
       "  </tbody>\n",
       "</table>\n",
       "</div>"
      ],
      "text/plain": [
       "   anime_id            name                                 genre   type  \\\n",
       "0     32281  Kimi no Na wa.  Drama, Romance, School, Supernatural  Movie   \n",
       "1     32281  Kimi no Na wa.  Drama, Romance, School, Supernatural  Movie   \n",
       "2     32281  Kimi no Na wa.  Drama, Romance, School, Supernatural  Movie   \n",
       "3     32281  Kimi no Na wa.  Drama, Romance, School, Supernatural  Movie   \n",
       "4     32281  Kimi no Na wa.  Drama, Romance, School, Supernatural  Movie   \n",
       "\n",
       "  episodes  members  \n",
       "0        1   200630  \n",
       "1        1   200630  \n",
       "2        1   200630  \n",
       "3        1   200630  \n",
       "4        1   200630  "
      ]
     },
     "execution_count": 12,
     "metadata": {},
     "output_type": "execute_result"
    }
   ],
   "source": [
    "new.head(5)"
   ]
  },
  {
   "cell_type": "code",
   "execution_count": 13,
   "id": "6c5f3e4a",
   "metadata": {
    "scrolled": true
   },
   "outputs": [
    {
     "data": {
      "text/plain": [
       "<bound method NDFrame.head of          anime_id                                               name  \\\n",
       "0           32281                                     Kimi no Na wa.   \n",
       "2199         5114                   Fullmetal Alchemist: Brotherhood   \n",
       "26773       28977                                           Gintama°   \n",
       "28159        9253                                        Steins;Gate   \n",
       "47442        9969                                      Gintama&#039;   \n",
       "...           ...                                                ...   \n",
       "7813710      9316       Toushindai My Lover: Minami tai Mecha-Minami   \n",
       "7813714      5543                                        Under World   \n",
       "7813718      5621                     Violence Gekiga David no Hoshi   \n",
       "7813721      6133  Violence Gekiga Shin David no Hoshi: Inma Dens...   \n",
       "7813725     26081                   Yasuji no Pornorama: Yacchimae!!   \n",
       "\n",
       "                                                     genre   type episodes  \\\n",
       "0                     Drama, Romance, School, Supernatural  Movie        1   \n",
       "2199     Action, Adventure, Drama, Fantasy, Magic, Mili...     TV       64   \n",
       "26773    Action, Comedy, Historical, Parody, Samurai, S...     TV       51   \n",
       "28159                                     Sci-Fi, Thriller     TV       24   \n",
       "47442    Action, Comedy, Historical, Parody, Samurai, S...     TV       51   \n",
       "...                                                    ...    ...      ...   \n",
       "7813710                                             Hentai    OVA        1   \n",
       "7813714                                             Hentai    OVA        1   \n",
       "7813718                                             Hentai    OVA        4   \n",
       "7813721                                             Hentai    OVA        1   \n",
       "7813725                                             Hentai  Movie        1   \n",
       "\n",
       "         members  \n",
       "0         200630  \n",
       "2199      793665  \n",
       "26773     114262  \n",
       "28159     673572  \n",
       "47442     151266  \n",
       "...          ...  \n",
       "7813710      211  \n",
       "7813714      183  \n",
       "7813718      219  \n",
       "7813721      175  \n",
       "7813725      142  \n",
       "\n",
       "[11197 rows x 6 columns]>"
      ]
     },
     "execution_count": 13,
     "metadata": {},
     "output_type": "execute_result"
    }
   ],
   "source": [
    "new=new.drop_duplicates()\n",
    "new.head"
   ]
  },
  {
   "cell_type": "code",
   "execution_count": 14,
   "id": "1ae56cca",
   "metadata": {},
   "outputs": [],
   "source": [
    "from sklearn.feature_extraction.text import CountVectorizer\n",
    "cv = CountVectorizer(max_features=5000,stop_words='english')\n",
    "    "
   ]
  },
  {
   "cell_type": "code",
   "execution_count": 15,
   "id": "e865c831",
   "metadata": {},
   "outputs": [],
   "source": [
    "from sklearn.metrics.pairwise import cosine_similarity\n"
   ]
  },
  {
   "cell_type": "code",
   "execution_count": 53,
   "id": "11f11c9e",
   "metadata": {},
   "outputs": [
    {
     "data": {
      "text/plain": [
       "0                                             Kimi no Na wa.\n",
       "2199                        Fullmetal Alchemist: Brotherhood\n",
       "26773                                               Gintama°\n",
       "28159                                            Steins;Gate\n",
       "47442                                          Gintama&#039;\n",
       "                                 ...                        \n",
       "7813710         Toushindai My Lover: Minami tai Mecha-Minami\n",
       "7813714                                          Under World\n",
       "7813718                       Violence Gekiga David no Hoshi\n",
       "7813721    Violence Gekiga Shin David no Hoshi: Inma Dens...\n",
       "7813725                     Yasuji no Pornorama: Yacchimae!!\n",
       "Name: name, Length: 11197, dtype: object"
      ]
     },
     "execution_count": 53,
     "metadata": {},
     "output_type": "execute_result"
    }
   ],
   "source": [
    "new[\"name\"]"
   ]
  },
  {
   "cell_type": "code",
   "execution_count": 46,
   "id": "3956cb48",
   "metadata": {},
   "outputs": [],
   "source": [
    "cf=new['genre']"
   ]
  },
  {
   "cell_type": "code",
   "execution_count": 47,
   "id": "4adf71a4",
   "metadata": {},
   "outputs": [
    {
     "data": {
      "text/plain": [
       "0                       Drama, Romance, School, Supernatural\n",
       "2199       Action, Adventure, Drama, Fantasy, Magic, Mili...\n",
       "26773      Action, Comedy, Historical, Parody, Samurai, S...\n",
       "28159                                       Sci-Fi, Thriller\n",
       "47442      Action, Comedy, Historical, Parody, Samurai, S...\n",
       "                                 ...                        \n",
       "7813710                                               Hentai\n",
       "7813714                                               Hentai\n",
       "7813718                                               Hentai\n",
       "7813721                                               Hentai\n",
       "7813725                                               Hentai\n",
       "Name: genre, Length: 11197, dtype: object"
      ]
     },
     "execution_count": 47,
     "metadata": {},
     "output_type": "execute_result"
    }
   ],
   "source": [
    "cf"
   ]
  },
  {
   "cell_type": "code",
   "execution_count": 54,
   "id": "96c81fa3",
   "metadata": {},
   "outputs": [],
   "source": [
    "import difflib\n",
    "from sklearn.feature_extraction.text import TfidfVectorizer\n",
    "from sklearn.metrics.pairwise import cosine_similarity\n",
    "v=TfidfVectorizer()"
   ]
  },
  {
   "cell_type": "code",
   "execution_count": 55,
   "id": "974ebcd3",
   "metadata": {},
   "outputs": [],
   "source": [
    "# fv=vectorizer.fit_transform(cf).values.astype('U')\n",
    "a=v.fit_transform(cf.values.astype('U'))"
   ]
  },
  {
   "cell_type": "code",
   "execution_count": 56,
   "id": "693c0c67",
   "metadata": {},
   "outputs": [
    {
     "name": "stdout",
     "output_type": "stream",
     "text": [
      "  (0, 43)\t0.5460672017311335\n",
      "  (0, 34)\t0.5204116320431881\n",
      "  (0, 32)\t0.48498432136182823\n",
      "  (0, 8)\t0.4424619220462729\n",
      "  (1, 38)\t0.3483067518916656\n",
      "  (1, 23)\t0.5193940550738924\n",
      "  (1, 20)\t0.45292834353933475\n",
      "  (1, 10)\t0.32208282924287224\n",
      "  (1, 1)\t0.3170409296958413\n",
      "  (1, 0)\t0.2928146652714338\n",
      "  (1, 8)\t0.3373061066238974\n",
      "  (2, 11)\t0.2802132574361544\n",
      "  (2, 35)\t0.2802132574361544\n",
      "  (2, 33)\t0.550103614759842\n",
      "  (2, 28)\t0.44981142536727226\n",
      "  (2, 15)\t0.38422973871198607\n",
      "  (2, 5)\t0.20148391450312392\n",
      "  (2, 38)\t0.2962477717701337\n",
      "  (2, 0)\t0.24904970017710273\n",
      "  (3, 44)\t0.83539082878924\n",
      "  (3, 11)\t0.38866577105195843\n",
      "  (3, 35)\t0.38866577105195843\n",
      "  (4, 11)\t0.2802132574361544\n",
      "  (4, 35)\t0.2802132574361544\n",
      "  (4, 33)\t0.550103614759842\n",
      "  :\t:\n",
      "  (11180, 14)\t0.569086868492917\n",
      "  (11180, 28)\t0.7504327243344232\n",
      "  (11180, 5)\t0.3361411345803143\n",
      "  (11181, 14)\t0.569086868492917\n",
      "  (11181, 28)\t0.7504327243344232\n",
      "  (11181, 5)\t0.3361411345803143\n",
      "  (11182, 14)\t1.0\n",
      "  (11183, 14)\t1.0\n",
      "  (11184, 14)\t0.8610176090399709\n",
      "  (11184, 5)\t0.5085751438313633\n",
      "  (11185, 14)\t0.5020470376613977\n",
      "  (11185, 19)\t0.49931578918069314\n",
      "  (11185, 27)\t0.49931578918069314\n",
      "  (11185, 39)\t0.49931578918069314\n",
      "  (11186, 14)\t1.0\n",
      "  (11187, 14)\t1.0\n",
      "  (11188, 14)\t1.0\n",
      "  (11189, 14)\t1.0\n",
      "  (11190, 14)\t1.0\n",
      "  (11191, 14)\t1.0\n",
      "  (11192, 14)\t1.0\n",
      "  (11193, 14)\t1.0\n",
      "  (11194, 14)\t1.0\n",
      "  (11195, 14)\t1.0\n",
      "  (11196, 14)\t1.0\n"
     ]
    }
   ],
   "source": [
    "print(a)"
   ]
  },
  {
   "cell_type": "code",
   "execution_count": 57,
   "id": "610a7d47",
   "metadata": {},
   "outputs": [],
   "source": [
    "similarity = cosine_similarity(a)"
   ]
  },
  {
   "cell_type": "code",
   "execution_count": 58,
   "id": "32f4228d",
   "metadata": {},
   "outputs": [
    {
     "name": "stdout",
     "output_type": "stream",
     "text": [
      "[[1.         0.14924511 0.         ... 0.         0.         0.        ]\n",
      " [0.14924511 1.         0.1761105  ... 0.         0.         0.        ]\n",
      " [0.         0.1761105  1.         ... 0.         0.         0.        ]\n",
      " ...\n",
      " [0.         0.         0.         ... 1.         1.         1.        ]\n",
      " [0.         0.         0.         ... 1.         1.         1.        ]\n",
      " [0.         0.         0.         ... 1.         1.         1.        ]]\n"
     ]
    }
   ],
   "source": [
    "print(similarity)"
   ]
  },
  {
   "cell_type": "code",
   "execution_count": 59,
   "id": "4e0c1b89",
   "metadata": {},
   "outputs": [
    {
     "name": "stdout",
     "output_type": "stream",
     "text": [
      "(11197, 11197)\n"
     ]
    }
   ],
   "source": [
    "print(similarity.shape)"
   ]
  },
  {
   "cell_type": "code",
   "execution_count": 63,
   "id": "e94ed387",
   "metadata": {},
   "outputs": [
    {
     "name": "stdout",
     "output_type": "stream",
     "text": [
      " Enter your favourite movie name : Your name\n"
     ]
    }
   ],
   "source": [
    "# getting the movie name from the user\n",
    "# Import Module\n",
    "from tkinter import *\n",
    " \n",
    "# create root window\n",
    "root = Tk()\n",
    " \n",
    "# root window title and dimension\n",
    "root.title(\"Welcome to GeekForGeeks\")\n",
    "movie_name = input(' Enter your favourite movie name : ')\n",
    "# Set geometry (widthxheight)\n",
    "root.geometry('350x200')\n",
    " \n",
    "# all widgets will be here\n",
    "# Execute Tkinter\n",
    "root.mainloop()\n"
   ]
  },
  {
   "cell_type": "code",
   "execution_count": 61,
   "id": "f6a23169",
   "metadata": {},
   "outputs": [],
   "source": [
    "list_of_all_titles = new['name'].tolist()"
   ]
  },
  {
   "cell_type": "code",
   "execution_count": 62,
   "id": "62f62e71",
   "metadata": {},
   "outputs": [
    {
     "name": "stdout",
     "output_type": "stream",
     "text": [
      "['Under World', 'Accel World', 'Meisou! Underworld']\n"
     ]
    }
   ],
   "source": [
    "find_close_match = difflib.get_close_matches(movie_name, list_of_all_titles)\n",
    "print(find_close_match)"
   ]
  },
  {
   "cell_type": "code",
   "execution_count": null,
   "id": "c8f2939e",
   "metadata": {},
   "outputs": [],
   "source": []
  }
 ],
 "metadata": {
  "kernelspec": {
   "display_name": "Python 3 (ipykernel)",
   "language": "python",
   "name": "python3"
  },
  "language_info": {
   "codemirror_mode": {
    "name": "ipython",
    "version": 3
   },
   "file_extension": ".py",
   "mimetype": "text/x-python",
   "name": "python",
   "nbconvert_exporter": "python",
   "pygments_lexer": "ipython3",
   "version": "3.9.13"
  }
 },
 "nbformat": 4,
 "nbformat_minor": 5
}
